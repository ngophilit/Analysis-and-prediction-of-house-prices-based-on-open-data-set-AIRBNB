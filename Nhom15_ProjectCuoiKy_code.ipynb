{
 "cells": [
  {
   "cell_type": "markdown",
   "metadata": {},
   "source": [
    "# Khởi tạo spark"
   ]
  },
  {
   "cell_type": "code",
   "execution_count": 1,
   "metadata": {},
   "outputs": [],
   "source": [
    "import findspark\n",
    "findspark.init()\n",
    "\n",
    "import pyspark\n",
    "findspark.find()\n",
    "\n",
    "from pyspark.sql import SparkSession\n",
    "from pyspark.sql.functions import count\n",
    "\n",
    "sc = (SparkSession\n",
    "      .builder\n",
    "      .appName(\"sql_ex1\")\n",
    "      .getOrCreate())"
   ]
  },
  {
   "cell_type": "markdown",
   "metadata": {},
   "source": [
    "# Đọc và load tập dữ liệu New York City Airbnb"
   ]
  },
  {
   "cell_type": "code",
   "execution_count": 2,
   "metadata": {},
   "outputs": [],
   "source": [
    "from pyspark.sql import SparkSession\n",
    "from pyspark.ml.feature import VectorAssembler, StringIndexer\n",
    "from pyspark.sql.functions import *\n",
    "from pyspark.sql.functions import udf\n",
    "from pyspark.sql.types import FloatType, IntegerType\n",
    "import matplotlib.pyplot as plt\n",
    "from pyspark.ml import Pipeline\n",
    "from pyspark.ml.feature import OneHotEncoder\n",
    "from pyspark.ml.feature import MinMaxScaler\n",
    "from pyspark.ml.evaluation import RegressionEvaluator\n",
    "from pyspark.ml.regression import LinearRegression\n",
    "from pyspark.ml.tuning import ParamGridBuilder, TrainValidationSplit\n",
    "from pyspark.ml.evaluation import RegressionEvaluator\n",
    "from pyspark.ml.regression import DecisionTreeRegressor\n",
    "from pyspark.ml.regression import GBTRegressor\n",
    "from pyspark.ml.regression import RandomForestRegressor\n",
    "from pyspark.ml.regression import FMRegressor"
   ]
  },
  {
   "cell_type": "code",
   "execution_count": 3,
   "metadata": {},
   "outputs": [
    {
     "name": "stdout",
     "output_type": "stream",
     "text": [
      "+----+--------------------+-------+---------+-------------------+-------------+--------+---------+---------------+-----+--------------+-----------------+-----------+-----------------+------------------------------+----------------+\n",
      "|  id|                name|host_id|host_name|neighbourhood_group|neighbourhood|latitude|longitude|      room_type|price|minimum_nights|number_of_reviews|last_review|reviews_per_month|calculated_host_listings_count|availability_365|\n",
      "+----+--------------------+-------+---------+-------------------+-------------+--------+---------+---------------+-----+--------------+-----------------+-----------+-----------------+------------------------------+----------------+\n",
      "|2539|Clean & quiet apt...|   2787|     John|           Brooklyn|   Kensington|40.64749|-73.97237|   Private room|  149|             1|                9| 2018-10-19|             0.21|                             6|             365|\n",
      "|2595|Skylit Midtown Ca...|   2845| Jennifer|          Manhattan|      Midtown|40.75362|-73.98377|Entire home/apt|  225|             1|               45| 2019-05-21|             0.38|                             2|             355|\n",
      "|3647|THE VILLAGE OF HA...|   4632|Elisabeth|          Manhattan|       Harlem|40.80902| -73.9419|   Private room|  150|             3|                0|       null|             null|                             1|             365|\n",
      "+----+--------------------+-------+---------+-------------------+-------------+--------+---------+---------------+-----+--------------+-----------------+-----------+-----------------+------------------------------+----------------+\n",
      "only showing top 3 rows\n",
      "\n"
     ]
    }
   ],
   "source": [
    "df = sc.read.csv(\"./AB_NYC_2019.csv\", header=True)\n",
    "df.show(3)"
   ]
  },
  {
   "cell_type": "markdown",
   "metadata": {},
   "source": [
    "# Tập  dữ  liệu  New  York  City  Airbnb\n",
    "\n",
    "Tập Dữ Liệu AB_NYC_2019.csv chứa 48895 bản ghi\n",
    "\n",
    "Tập dữ liệu có tất cả 16 cột tương ứng với 16 biến:\n",
    "\n",
    "$id$      : Id danh sách\n",
    "\n",
    "$name$    : tên địa điểm của danh sách\n",
    "\n",
    "$host__id$ : ID máy chủ\n",
    "\n",
    "$host__name$  : tên của chủ nhà\n",
    "\n",
    "$neighbourhood__group$ :  vị trí\n",
    "\n",
    "$neighbourhood$ : Khu vực\n",
    "\n",
    "$latitude$ : tọa độ vĩ độ\n",
    "\n",
    "$longitude$ : tọa độ kinh độ\n",
    "\n",
    "$room__type$ : loại phòng ở trong danh sách (Entire home/apt, Private room, Shared room)\n",
    "\n",
    "$price$ : giá bằng đô la\n",
    "\n",
    "$minimum__nights$ : số đêm tối thiểu\n",
    "\n",
    "$number__of__reviews$ : số lượng đánh giá\n",
    "\n",
    "$last__review$ : đánh giá mới nhất\n",
    "\n",
    "$reviews__per__month$ : số lượng đánh giá mỗi tháng\n",
    "\n",
    "$calculated__host__listings__count$ : số lượng danh sách trên mỗi máy chủ    \n",
    "\n",
    "$availability__365$ : số ngày khi danh sách có sẵn để đặt"
   ]
  },
  {
   "cell_type": "markdown",
   "metadata": {},
   "source": [
    "# Xem các loại biến trong tập dữ liệu"
   ]
  },
  {
   "cell_type": "code",
   "execution_count": 4,
   "metadata": {},
   "outputs": [
    {
     "name": "stdout",
     "output_type": "stream",
     "text": [
      "root\n",
      " |-- id: string (nullable = true)\n",
      " |-- name: string (nullable = true)\n",
      " |-- host_id: string (nullable = true)\n",
      " |-- host_name: string (nullable = true)\n",
      " |-- neighbourhood_group: string (nullable = true)\n",
      " |-- neighbourhood: string (nullable = true)\n",
      " |-- latitude: string (nullable = true)\n",
      " |-- longitude: string (nullable = true)\n",
      " |-- room_type: string (nullable = true)\n",
      " |-- price: string (nullable = true)\n",
      " |-- minimum_nights: string (nullable = true)\n",
      " |-- number_of_reviews: string (nullable = true)\n",
      " |-- last_review: string (nullable = true)\n",
      " |-- reviews_per_month: string (nullable = true)\n",
      " |-- calculated_host_listings_count: string (nullable = true)\n",
      " |-- availability_365: string (nullable = true)\n",
      "\n"
     ]
    }
   ],
   "source": [
    "df.printSchema()"
   ]
  },
  {
   "cell_type": "code",
   "execution_count": 5,
   "metadata": {},
   "outputs": [
    {
     "data": {
      "text/plain": [
       "[('id', 'string'),\n",
       " ('name', 'string'),\n",
       " ('host_id', 'string'),\n",
       " ('host_name', 'string'),\n",
       " ('neighbourhood_group', 'string'),\n",
       " ('neighbourhood', 'string'),\n",
       " ('latitude', 'string'),\n",
       " ('longitude', 'string'),\n",
       " ('room_type', 'string'),\n",
       " ('price', 'string'),\n",
       " ('minimum_nights', 'string'),\n",
       " ('number_of_reviews', 'string'),\n",
       " ('last_review', 'string'),\n",
       " ('reviews_per_month', 'string'),\n",
       " ('calculated_host_listings_count', 'string'),\n",
       " ('availability_365', 'string')]"
      ]
     },
     "execution_count": 5,
     "metadata": {},
     "output_type": "execute_result"
    }
   ],
   "source": [
    "df.dtypes"
   ]
  },
  {
   "cell_type": "markdown",
   "metadata": {},
   "source": [
    "# Tiến hành làm sạch dữ liệu\n",
    "(Lọc và giữ lại các cột có liên quan)"
   ]
  },
  {
   "cell_type": "code",
   "execution_count": 6,
   "metadata": {},
   "outputs": [],
   "source": [
    "df2 = df.select('neighbourhood_group', 'neighbourhood', 'room_type', 'price', \\\n",
    "               'minimum_nights','number_of_reviews', 'last_review', 'reviews_per_month', \\\n",
    "               'calculated_host_listings_count', 'availability_365', 'latitude', 'longitude')"
   ]
  },
  {
   "cell_type": "markdown",
   "metadata": {},
   "source": [
    "# chuyển đổi các cột \"last_review\" từ kiểu chuỗi thành ngày"
   ]
  },
  {
   "cell_type": "code",
   "execution_count": 7,
   "metadata": {},
   "outputs": [
    {
     "name": "stdout",
     "output_type": "stream",
     "text": [
      "+-------------------+-------------+---------------+-----+--------------+-----------------+-----------+-----------------+------------------------------+----------------+--------+---------+\n",
      "|neighbourhood_group|neighbourhood|      room_type|price|minimum_nights|number_of_reviews|last_review|reviews_per_month|calculated_host_listings_count|availability_365|latitude|longitude|\n",
      "+-------------------+-------------+---------------+-----+--------------+-----------------+-----------+-----------------+------------------------------+----------------+--------+---------+\n",
      "|           Brooklyn|   Kensington|   Private room|  149|             1|                9| 2018-10-19|             0.21|                             6|             365|40.64749|-73.97237|\n",
      "|          Manhattan|      Midtown|Entire home/apt|  225|             1|               45| 2019-05-21|             0.38|                             2|             355|40.75362|-73.98377|\n",
      "|          Manhattan|       Harlem|   Private room|  150|             3|                0|       null|             null|                             1|             365|40.80902| -73.9419|\n",
      "|           Brooklyn| Clinton Hill|Entire home/apt|   89|             1|              270| 2019-07-05|             4.64|                             1|             194|40.68514|-73.95976|\n",
      "|          Manhattan|  East Harlem|Entire home/apt|   80|            10|                9| 2018-11-19|             0.10|                             1|               0|40.79851|-73.94399|\n",
      "+-------------------+-------------+---------------+-----+--------------+-----------------+-----------+-----------------+------------------------------+----------------+--------+---------+\n",
      "only showing top 5 rows\n",
      "\n"
     ]
    }
   ],
   "source": [
    "df2 = df2.withColumn(\"last_review\", to_date(df2.last_review, 'yyyy-MM-dd'))\n",
    "df2.show(5)"
   ]
  },
  {
   "cell_type": "code",
   "execution_count": 8,
   "metadata": {},
   "outputs": [
    {
     "data": {
      "text/plain": [
       "[('neighbourhood_group', 'string'),\n",
       " ('neighbourhood', 'string'),\n",
       " ('room_type', 'string'),\n",
       " ('price', 'string'),\n",
       " ('minimum_nights', 'string'),\n",
       " ('number_of_reviews', 'string'),\n",
       " ('last_review', 'date'),\n",
       " ('reviews_per_month', 'string'),\n",
       " ('calculated_host_listings_count', 'string'),\n",
       " ('availability_365', 'string'),\n",
       " ('latitude', 'string'),\n",
       " ('longitude', 'string')]"
      ]
     },
     "execution_count": 8,
     "metadata": {},
     "output_type": "execute_result"
    }
   ],
   "source": [
    "df2.dtypes"
   ]
  },
  {
   "cell_type": "markdown",
   "metadata": {},
   "source": [
    "# Tìm điểm zero mà last_review (lần đánh giá cuối) đã diễn ra"
   ]
  },
  {
   "cell_type": "code",
   "execution_count": 9,
   "metadata": {},
   "outputs": [
    {
     "data": {
      "text/plain": [
       "datetime.date(2019, 7, 8)"
      ]
     },
     "execution_count": 9,
     "metadata": {},
     "output_type": "execute_result"
    }
   ],
   "source": [
    "max_date = df2.select(max(\"last_review\")).collect()\n",
    "max_date[0][0]"
   ]
  },
  {
   "cell_type": "code",
   "execution_count": 10,
   "metadata": {},
   "outputs": [
    {
     "data": {
      "text/plain": [
       "Column<'datediff(DATE '2019-07-08', DATE '2019-07-08')'>"
      ]
     },
     "execution_count": 10,
     "metadata": {},
     "output_type": "execute_result"
    }
   ],
   "source": [
    "datediff(lit(max_date[0][0]),lit(max_date[0][0]))"
   ]
  },
  {
   "cell_type": "markdown",
   "metadata": {},
   "source": [
    "# Từ giá trị zero point này, chúng tôi có thể ước tính được từ bài đánh giá cuối cùng được cập nhật là bao nhiêu ngày. Chúng ta có thể gọi cột này là 'chênh lệch tính theo ngày'"
   ]
  },
  {
   "cell_type": "code",
   "execution_count": 11,
   "metadata": {},
   "outputs": [
    {
     "name": "stdout",
     "output_type": "stream",
     "text": [
      "+-------------------+-------------+---------------+-----+--------------+-----------------+-----------+-----------------+------------------------------+----------------+--------+---------+------------+\n",
      "|neighbourhood_group|neighbourhood|      room_type|price|minimum_nights|number_of_reviews|last_review|reviews_per_month|calculated_host_listings_count|availability_365|latitude|longitude|diff_in_days|\n",
      "+-------------------+-------------+---------------+-----+--------------+-----------------+-----------+-----------------+------------------------------+----------------+--------+---------+------------+\n",
      "|           Brooklyn|   Kensington|   Private room|  149|             1|                9| 2018-10-19|             0.21|                             6|             365|40.64749|-73.97237|         262|\n",
      "|          Manhattan|      Midtown|Entire home/apt|  225|             1|               45| 2019-05-21|             0.38|                             2|             355|40.75362|-73.98377|          48|\n",
      "|          Manhattan|       Harlem|   Private room|  150|             3|                0|       null|             null|                             1|             365|40.80902| -73.9419|        null|\n",
      "|           Brooklyn| Clinton Hill|Entire home/apt|   89|             1|              270| 2019-07-05|             4.64|                             1|             194|40.68514|-73.95976|           3|\n",
      "|          Manhattan|  East Harlem|Entire home/apt|   80|            10|                9| 2018-11-19|             0.10|                             1|               0|40.79851|-73.94399|         231|\n",
      "+-------------------+-------------+---------------+-----+--------------+-----------------+-----------+-----------------+------------------------------+----------------+--------+---------+------------+\n",
      "only showing top 5 rows\n",
      "\n"
     ]
    }
   ],
   "source": [
    "df2 = df2.withColumn(\"diff_in_days\", datediff(lit(max_date[0][0]), col(\"last_review\")))\n",
    "df2.show(5)"
   ]
  },
  {
   "cell_type": "markdown",
   "metadata": {},
   "source": [
    "# Chuyển đổi các cột sau thành biến phân loại"
   ]
  },
  {
   "cell_type": "code",
   "execution_count": 12,
   "metadata": {},
   "outputs": [
    {
     "name": "stdout",
     "output_type": "stream",
     "text": [
      "+-------------------+-------------+---------------+-----+--------------+-----------------+-----------+-----------------+------------------------------+----------------+--------+---------+--------------+\n",
      "|neighbourhood_group|neighbourhood|      room_type|price|minimum_nights|number_of_reviews|last_review|reviews_per_month|calculated_host_listings_count|availability_365|latitude|longitude|  diff_in_days|\n",
      "+-------------------+-------------+---------------+-----+--------------+-----------------+-----------+-----------------+------------------------------+----------------+--------+---------+--------------+\n",
      "|           Brooklyn|   Kensington|   Private room|  149|             1|                9| 2018-10-19|             0.21|                             6|             365|40.64749|-73.97237|  one_year_ago|\n",
      "|          Manhattan|      Midtown|Entire home/apt|  225|             1|               45| 2019-05-21|             0.38|                             2|             355|40.75362|-73.98377| half_year_ago|\n",
      "|          Manhattan|       Harlem|   Private room|  150|             3|                0|       null|             null|                             1|             365|40.80902| -73.9419|         never|\n",
      "|           Brooklyn| Clinton Hill|Entire home/apt|   89|             1|              270| 2019-07-05|             4.64|                             1|             194|40.68514|-73.95976|three_days_ago|\n",
      "|          Manhattan|  East Harlem|Entire home/apt|   80|            10|                9| 2018-11-19|             0.10|                             1|               0|40.79851|-73.94399|  one_year_ago|\n",
      "+-------------------+-------------+---------------+-----+--------------+-----------------+-----------+-----------------+------------------------------+----------------+--------+---------+--------------+\n",
      "only showing top 5 rows\n",
      "\n"
     ]
    }
   ],
   "source": [
    "def date_replacement(date):\n",
    "    if date is None:\n",
    "        return \"never\" \n",
    "    elif date <=3:\n",
    "        return \"three_days_ago\"\n",
    "    elif date <= 7:\n",
    "        return \"last_week_ago\"\n",
    "    elif date <= 30:\n",
    "        return \"last_month_ago\"\n",
    "    elif date <= 183:\n",
    "        return \"half_year_ago\"\n",
    "    elif date <= 365:\n",
    "        return \"one_year_ago\"\n",
    "    elif date <= 1825:\n",
    "        return \"5_years_ago\"\n",
    "    else:\n",
    "        return \"never\"\n",
    "\n",
    "from pyspark.sql.types import StringType\n",
    "    \n",
    "convertUDF = udf(lambda z: date_replacement(z),StringType())\n",
    "    \n",
    "df2 = df2.withColumn(\"diff_in_days\", convertUDF(df2.diff_in_days))\n",
    "df2.show(5)"
   ]
  },
  {
   "cell_type": "markdown",
   "metadata": {},
   "source": [
    "# Nhập truyền tất cả các cột kiểu chuỗi thành kiểu số nguyên (interger) và kiểu thực (floats)"
   ]
  },
  {
   "cell_type": "code",
   "execution_count": 13,
   "metadata": {},
   "outputs": [],
   "source": [
    "df2 = df2.withColumn(\"price\", df2[\"price\"].cast(IntegerType()))\n",
    "df2 = df2.withColumn(\"minimum_nights\", df2[\"minimum_nights\"].cast(IntegerType()))\n",
    "df2 = df2.withColumn(\"number_of_reviews\", df2[\"number_of_reviews\"].cast(IntegerType()))\n",
    "df2 = df2.withColumn(\"reviews_per_month\", df2[\"reviews_per_month\"].cast(FloatType()))\n",
    "df2 = df2.withColumn(\"calculated_host_listings_count\", df2[\"calculated_host_listings_count\"].cast(IntegerType()))\n",
    "df2 = df2.withColumn(\"availability_365\", df2[\"availability_365\"].cast(IntegerType()))\n",
    "df2 = df2.withColumn(\"latitude\", df2[\"latitude\"].cast(FloatType()))\n",
    "df2 = df2.withColumn(\"longitude\", df2[\"longitude\"].cast(FloatType()))"
   ]
  },
  {
   "cell_type": "code",
   "execution_count": 14,
   "metadata": {},
   "outputs": [
    {
     "name": "stdout",
     "output_type": "stream",
     "text": [
      "+-------------------+-------------+---------------+-----+--------------+-----------------+-----------+-----------------+------------------------------+----------------+--------+---------+--------------+\n",
      "|neighbourhood_group|neighbourhood|      room_type|price|minimum_nights|number_of_reviews|last_review|reviews_per_month|calculated_host_listings_count|availability_365|latitude|longitude|  diff_in_days|\n",
      "+-------------------+-------------+---------------+-----+--------------+-----------------+-----------+-----------------+------------------------------+----------------+--------+---------+--------------+\n",
      "|           Brooklyn|   Kensington|   Private room|  149|             1|                9| 2018-10-19|             0.21|                             6|             365|40.64749|-73.97237|  one_year_ago|\n",
      "|          Manhattan|      Midtown|Entire home/apt|  225|             1|               45| 2019-05-21|             0.38|                             2|             355|40.75362|-73.98377| half_year_ago|\n",
      "|          Manhattan|       Harlem|   Private room|  150|             3|                0|       null|             null|                             1|             365|40.80902| -73.9419|         never|\n",
      "|           Brooklyn| Clinton Hill|Entire home/apt|   89|             1|              270| 2019-07-05|             4.64|                             1|             194|40.68514|-73.95976|three_days_ago|\n",
      "|          Manhattan|  East Harlem|Entire home/apt|   80|            10|                9| 2018-11-19|              0.1|                             1|               0|40.79851|-73.94399|  one_year_ago|\n",
      "+-------------------+-------------+---------------+-----+--------------+-----------------+-----------+-----------------+------------------------------+----------------+--------+---------+--------------+\n",
      "only showing top 5 rows\n",
      "\n"
     ]
    }
   ],
   "source": [
    "df2.show(5)"
   ]
  },
  {
   "cell_type": "markdown",
   "metadata": {},
   "source": [
    "# Thay thế các giá trị null bằng 0"
   ]
  },
  {
   "cell_type": "code",
   "execution_count": 15,
   "metadata": {},
   "outputs": [],
   "source": [
    "df2 = df2.na.fill(value=0,subset=[\"reviews_per_month\"])"
   ]
  },
  {
   "cell_type": "code",
   "execution_count": 16,
   "metadata": {},
   "outputs": [
    {
     "name": "stdout",
     "output_type": "stream",
     "text": [
      "+-------------------+-------------+---------------+-----+--------------+-----------------+-----------+-----------------+------------------------------+----------------+--------+---------+--------------+\n",
      "|neighbourhood_group|neighbourhood|      room_type|price|minimum_nights|number_of_reviews|last_review|reviews_per_month|calculated_host_listings_count|availability_365|latitude|longitude|  diff_in_days|\n",
      "+-------------------+-------------+---------------+-----+--------------+-----------------+-----------+-----------------+------------------------------+----------------+--------+---------+--------------+\n",
      "|           Brooklyn|   Kensington|   Private room|  149|             1|                9| 2018-10-19|             0.21|                             6|             365|40.64749|-73.97237|  one_year_ago|\n",
      "|          Manhattan|      Midtown|Entire home/apt|  225|             1|               45| 2019-05-21|             0.38|                             2|             355|40.75362|-73.98377| half_year_ago|\n",
      "|          Manhattan|       Harlem|   Private room|  150|             3|                0|       null|              0.0|                             1|             365|40.80902| -73.9419|         never|\n",
      "|           Brooklyn| Clinton Hill|Entire home/apt|   89|             1|              270| 2019-07-05|             4.64|                             1|             194|40.68514|-73.95976|three_days_ago|\n",
      "|          Manhattan|  East Harlem|Entire home/apt|   80|            10|                9| 2018-11-19|              0.1|                             1|               0|40.79851|-73.94399|  one_year_ago|\n",
      "+-------------------+-------------+---------------+-----+--------------+-----------------+-----------+-----------------+------------------------------+----------------+--------+---------+--------------+\n",
      "only showing top 5 rows\n",
      "\n"
     ]
    }
   ],
   "source": [
    "df2.show(5)"
   ]
  },
  {
   "cell_type": "code",
   "execution_count": 17,
   "metadata": {},
   "outputs": [
    {
     "data": {
      "text/plain": [
       "[('neighbourhood_group', 'string'),\n",
       " ('neighbourhood', 'string'),\n",
       " ('room_type', 'string'),\n",
       " ('price', 'int'),\n",
       " ('minimum_nights', 'int'),\n",
       " ('number_of_reviews', 'int'),\n",
       " ('last_review', 'date'),\n",
       " ('reviews_per_month', 'float'),\n",
       " ('calculated_host_listings_count', 'int'),\n",
       " ('availability_365', 'int'),\n",
       " ('latitude', 'float'),\n",
       " ('longitude', 'float'),\n",
       " ('diff_in_days', 'string')]"
      ]
     },
     "execution_count": 17,
     "metadata": {},
     "output_type": "execute_result"
    }
   ],
   "source": [
    "df2.dtypes"
   ]
  },
  {
   "cell_type": "code",
   "execution_count": 18,
   "metadata": {},
   "outputs": [
    {
     "name": "stdout",
     "output_type": "stream",
     "text": [
      "+-------------------+-------------+---------------+-----+--------------+-----------------+-----------+-----------------+------------------------------+----------------+--------+---------+--------------+\n",
      "|neighbourhood_group|neighbourhood|      room_type|price|minimum_nights|number_of_reviews|last_review|reviews_per_month|calculated_host_listings_count|availability_365|latitude|longitude|  diff_in_days|\n",
      "+-------------------+-------------+---------------+-----+--------------+-----------------+-----------+-----------------+------------------------------+----------------+--------+---------+--------------+\n",
      "|           Brooklyn|   Kensington|   Private room|  149|             1|                9| 2018-10-19|             0.21|                             6|             365|40.64749|-73.97237|  one_year_ago|\n",
      "|          Manhattan|      Midtown|Entire home/apt|  225|             1|               45| 2019-05-21|             0.38|                             2|             355|40.75362|-73.98377| half_year_ago|\n",
      "|           Brooklyn| Clinton Hill|Entire home/apt|   89|             1|              270| 2019-07-05|             4.64|                             1|             194|40.68514|-73.95976|three_days_ago|\n",
      "|          Manhattan|  East Harlem|Entire home/apt|   80|            10|                9| 2018-11-19|              0.1|                             1|               0|40.79851|-73.94399|  one_year_ago|\n",
      "|          Manhattan|  Murray Hill|Entire home/apt|  200|             3|               74| 2019-06-22|             0.59|                             1|             129|40.74767|  -73.975|last_month_ago|\n",
      "+-------------------+-------------+---------------+-----+--------------+-----------------+-----------+-----------------+------------------------------+----------------+--------+---------+--------------+\n",
      "only showing top 5 rows\n",
      "\n"
     ]
    }
   ],
   "source": [
    "df2 = df2.na.drop(how=\"any\")\n",
    "df2.show(5)"
   ]
  },
  {
   "cell_type": "markdown",
   "metadata": {},
   "source": [
    "# Ma trận tương quan (Correlation Matrix)"
   ]
  },
  {
   "cell_type": "code",
   "execution_count": 19,
   "metadata": {},
   "outputs": [
    {
     "data": {
      "text/html": [
       "<style  type=\"text/css\" >\n",
       "#T_992e9_row0_col0,#T_992e9_row1_col1,#T_992e9_row2_col2,#T_992e9_row3_col3,#T_992e9_row4_col4,#T_992e9_row5_col5,#T_992e9_row6_col6,#T_992e9_row7_col7{\n",
       "            background-color:  #b40426;\n",
       "            color:  #f1f1f1;\n",
       "        }#T_992e9_row0_col1,#T_992e9_row6_col1{\n",
       "            background-color:  #6384eb;\n",
       "            color:  #000000;\n",
       "        }#T_992e9_row0_col2,#T_992e9_row2_col4{\n",
       "            background-color:  #4358cb;\n",
       "            color:  #f1f1f1;\n",
       "        }#T_992e9_row0_col3{\n",
       "            background-color:  #536edd;\n",
       "            color:  #000000;\n",
       "        }#T_992e9_row0_col4{\n",
       "            background-color:  #6485ec;\n",
       "            color:  #000000;\n",
       "        }#T_992e9_row0_col5,#T_992e9_row4_col3,#T_992e9_row6_col3{\n",
       "            background-color:  #5977e3;\n",
       "            color:  #000000;\n",
       "        }#T_992e9_row0_col6,#T_992e9_row4_col7{\n",
       "            background-color:  #4a63d3;\n",
       "            color:  #f1f1f1;\n",
       "        }#T_992e9_row0_col7,#T_992e9_row1_col2,#T_992e9_row1_col3,#T_992e9_row3_col1,#T_992e9_row5_col6,#T_992e9_row6_col5,#T_992e9_row7_col0,#T_992e9_row7_col4{\n",
       "            background-color:  #3b4cc0;\n",
       "            color:  #f1f1f1;\n",
       "        }#T_992e9_row1_col0{\n",
       "            background-color:  #6c8ff1;\n",
       "            color:  #000000;\n",
       "        }#T_992e9_row1_col4{\n",
       "            background-color:  #6b8df0;\n",
       "            color:  #000000;\n",
       "        }#T_992e9_row1_col5,#T_992e9_row7_col5{\n",
       "            background-color:  #6180e9;\n",
       "            color:  #000000;\n",
       "        }#T_992e9_row1_col6,#T_992e9_row2_col1{\n",
       "            background-color:  #485fd1;\n",
       "            color:  #f1f1f1;\n",
       "        }#T_992e9_row1_col7,#T_992e9_row6_col4{\n",
       "            background-color:  #5572df;\n",
       "            color:  #000000;\n",
       "        }#T_992e9_row2_col0{\n",
       "            background-color:  #5a78e4;\n",
       "            color:  #000000;\n",
       "        }#T_992e9_row2_col3{\n",
       "            background-color:  #f2cbb7;\n",
       "            color:  #000000;\n",
       "        }#T_992e9_row2_col5{\n",
       "            background-color:  #80a3fa;\n",
       "            color:  #000000;\n",
       "        }#T_992e9_row2_col6{\n",
       "            background-color:  #3e51c5;\n",
       "            color:  #f1f1f1;\n",
       "        }#T_992e9_row2_col7,#T_992e9_row4_col0{\n",
       "            background-color:  #7597f6;\n",
       "            color:  #000000;\n",
       "        }#T_992e9_row3_col0,#T_992e9_row7_col6{\n",
       "            background-color:  #5b7ae5;\n",
       "            color:  #000000;\n",
       "        }#T_992e9_row3_col2{\n",
       "            background-color:  #efcfbf;\n",
       "            color:  #000000;\n",
       "        }#T_992e9_row3_col4{\n",
       "            background-color:  #516ddb;\n",
       "            color:  #000000;\n",
       "        }#T_992e9_row3_col5,#T_992e9_row4_col5,#T_992e9_row5_col0,#T_992e9_row5_col1{\n",
       "            background-color:  #7b9ff9;\n",
       "            color:  #000000;\n",
       "        }#T_992e9_row3_col6,#T_992e9_row4_col2{\n",
       "            background-color:  #3d50c3;\n",
       "            color:  #f1f1f1;\n",
       "        }#T_992e9_row3_col7{\n",
       "            background-color:  #90b2fe;\n",
       "            color:  #000000;\n",
       "        }#T_992e9_row4_col1{\n",
       "            background-color:  #7295f4;\n",
       "            color:  #000000;\n",
       "        }#T_992e9_row4_col6{\n",
       "            background-color:  #4257c9;\n",
       "            color:  #f1f1f1;\n",
       "        }#T_992e9_row5_col2{\n",
       "            background-color:  #8badfd;\n",
       "            color:  #000000;\n",
       "        }#T_992e9_row5_col3{\n",
       "            background-color:  #94b6ff;\n",
       "            color:  #000000;\n",
       "        }#T_992e9_row5_col4{\n",
       "            background-color:  #8db0fe;\n",
       "            color:  #000000;\n",
       "        }#T_992e9_row5_col7{\n",
       "            background-color:  #84a7fc;\n",
       "            color:  #000000;\n",
       "        }#T_992e9_row6_col0{\n",
       "            background-color:  #6e90f2;\n",
       "            color:  #000000;\n",
       "        }#T_992e9_row6_col2{\n",
       "            background-color:  #4b64d5;\n",
       "            color:  #f1f1f1;\n",
       "        }#T_992e9_row6_col7{\n",
       "            background-color:  #7ea1fa;\n",
       "            color:  #000000;\n",
       "        }#T_992e9_row7_col1{\n",
       "            background-color:  #4c66d6;\n",
       "            color:  #000000;\n",
       "        }#T_992e9_row7_col2{\n",
       "            background-color:  #5e7de7;\n",
       "            color:  #000000;\n",
       "        }#T_992e9_row7_col3{\n",
       "            background-color:  #88abfd;\n",
       "            color:  #000000;\n",
       "        }</style><table id=\"T_992e9_\" ><thead>    <tr>        <th class=\"blank level0\" ></th>        <th class=\"col_heading level0 col0\" >price</th>        <th class=\"col_heading level0 col1\" >minimum_nights</th>        <th class=\"col_heading level0 col2\" >number_of_reviews</th>        <th class=\"col_heading level0 col3\" >reviews_per_month</th>        <th class=\"col_heading level0 col4\" >calculated_host_listings_count</th>        <th class=\"col_heading level0 col5\" >availability_365</th>        <th class=\"col_heading level0 col6\" >latitude</th>        <th class=\"col_heading level0 col7\" >longitude</th>    </tr></thead><tbody>\n",
       "                <tr>\n",
       "                        <th id=\"T_992e9_level0_row0\" class=\"row_heading level0 row0\" >price</th>\n",
       "                        <td id=\"T_992e9_row0_col0\" class=\"data row0 col0\" >1.00</td>\n",
       "                        <td id=\"T_992e9_row0_col1\" class=\"data row0 col1\" >0.03</td>\n",
       "                        <td id=\"T_992e9_row0_col2\" class=\"data row0 col2\" >-0.04</td>\n",
       "                        <td id=\"T_992e9_row0_col3\" class=\"data row0 col3\" >-0.03</td>\n",
       "                        <td id=\"T_992e9_row0_col4\" class=\"data row0 col4\" >0.05</td>\n",
       "                        <td id=\"T_992e9_row0_col5\" class=\"data row0 col5\" >0.08</td>\n",
       "                        <td id=\"T_992e9_row0_col6\" class=\"data row0 col6\" >0.03</td>\n",
       "                        <td id=\"T_992e9_row0_col7\" class=\"data row0 col7\" >-0.16</td>\n",
       "            </tr>\n",
       "            <tr>\n",
       "                        <th id=\"T_992e9_level0_row1\" class=\"row_heading level0 row1\" >minimum_nights</th>\n",
       "                        <td id=\"T_992e9_row1_col0\" class=\"data row1 col0\" >0.03</td>\n",
       "                        <td id=\"T_992e9_row1_col1\" class=\"data row1 col1\" >1.00</td>\n",
       "                        <td id=\"T_992e9_row1_col2\" class=\"data row1 col2\" >-0.07</td>\n",
       "                        <td id=\"T_992e9_row1_col3\" class=\"data row1 col3\" >-0.12</td>\n",
       "                        <td id=\"T_992e9_row1_col4\" class=\"data row1 col4\" >0.07</td>\n",
       "                        <td id=\"T_992e9_row1_col5\" class=\"data row1 col5\" >0.10</td>\n",
       "                        <td id=\"T_992e9_row1_col6\" class=\"data row1 col6\" >0.03</td>\n",
       "                        <td id=\"T_992e9_row1_col7\" class=\"data row1 col7\" >-0.06</td>\n",
       "            </tr>\n",
       "            <tr>\n",
       "                        <th id=\"T_992e9_level0_row2\" class=\"row_heading level0 row2\" >number_of_reviews</th>\n",
       "                        <td id=\"T_992e9_row2_col0\" class=\"data row2 col0\" >-0.04</td>\n",
       "                        <td id=\"T_992e9_row2_col1\" class=\"data row2 col1\" >-0.07</td>\n",
       "                        <td id=\"T_992e9_row2_col2\" class=\"data row2 col2\" >1.00</td>\n",
       "                        <td id=\"T_992e9_row2_col3\" class=\"data row2 col3\" >0.55</td>\n",
       "                        <td id=\"T_992e9_row2_col4\" class=\"data row2 col4\" >-0.06</td>\n",
       "                        <td id=\"T_992e9_row2_col5\" class=\"data row2 col5\" >0.19</td>\n",
       "                        <td id=\"T_992e9_row2_col6\" class=\"data row2 col6\" >-0.01</td>\n",
       "                        <td id=\"T_992e9_row2_col7\" class=\"data row2 col7\" >0.05</td>\n",
       "            </tr>\n",
       "            <tr>\n",
       "                        <th id=\"T_992e9_level0_row3\" class=\"row_heading level0 row3\" >reviews_per_month</th>\n",
       "                        <td id=\"T_992e9_row3_col0\" class=\"data row3 col0\" >-0.03</td>\n",
       "                        <td id=\"T_992e9_row3_col1\" class=\"data row3 col1\" >-0.12</td>\n",
       "                        <td id=\"T_992e9_row3_col2\" class=\"data row3 col2\" >0.55</td>\n",
       "                        <td id=\"T_992e9_row3_col3\" class=\"data row3 col3\" >1.00</td>\n",
       "                        <td id=\"T_992e9_row3_col4\" class=\"data row3 col4\" >-0.01</td>\n",
       "                        <td id=\"T_992e9_row3_col5\" class=\"data row3 col5\" >0.18</td>\n",
       "                        <td id=\"T_992e9_row3_col6\" class=\"data row3 col6\" >-0.01</td>\n",
       "                        <td id=\"T_992e9_row3_col7\" class=\"data row3 col7\" >0.14</td>\n",
       "            </tr>\n",
       "            <tr>\n",
       "                        <th id=\"T_992e9_level0_row4\" class=\"row_heading level0 row4\" >calculated_host_listings_count</th>\n",
       "                        <td id=\"T_992e9_row4_col0\" class=\"data row4 col0\" >0.05</td>\n",
       "                        <td id=\"T_992e9_row4_col1\" class=\"data row4 col1\" >0.07</td>\n",
       "                        <td id=\"T_992e9_row4_col2\" class=\"data row4 col2\" >-0.06</td>\n",
       "                        <td id=\"T_992e9_row4_col3\" class=\"data row4 col3\" >-0.01</td>\n",
       "                        <td id=\"T_992e9_row4_col4\" class=\"data row4 col4\" >1.00</td>\n",
       "                        <td id=\"T_992e9_row4_col5\" class=\"data row4 col5\" >0.18</td>\n",
       "                        <td id=\"T_992e9_row4_col6\" class=\"data row4 col6\" >0.00</td>\n",
       "                        <td id=\"T_992e9_row4_col7\" class=\"data row4 col7\" >-0.09</td>\n",
       "            </tr>\n",
       "            <tr>\n",
       "                        <th id=\"T_992e9_level0_row5\" class=\"row_heading level0 row5\" >availability_365</th>\n",
       "                        <td id=\"T_992e9_row5_col0\" class=\"data row5 col0\" >0.08</td>\n",
       "                        <td id=\"T_992e9_row5_col1\" class=\"data row5 col1\" >0.10</td>\n",
       "                        <td id=\"T_992e9_row5_col2\" class=\"data row5 col2\" >0.19</td>\n",
       "                        <td id=\"T_992e9_row5_col3\" class=\"data row5 col3\" >0.18</td>\n",
       "                        <td id=\"T_992e9_row5_col4\" class=\"data row5 col4\" >0.18</td>\n",
       "                        <td id=\"T_992e9_row5_col5\" class=\"data row5 col5\" >1.00</td>\n",
       "                        <td id=\"T_992e9_row5_col6\" class=\"data row5 col6\" >-0.02</td>\n",
       "                        <td id=\"T_992e9_row5_col7\" class=\"data row5 col7\" >0.10</td>\n",
       "            </tr>\n",
       "            <tr>\n",
       "                        <th id=\"T_992e9_level0_row6\" class=\"row_heading level0 row6\" >latitude</th>\n",
       "                        <td id=\"T_992e9_row6_col0\" class=\"data row6 col0\" >0.03</td>\n",
       "                        <td id=\"T_992e9_row6_col1\" class=\"data row6 col1\" >0.03</td>\n",
       "                        <td id=\"T_992e9_row6_col2\" class=\"data row6 col2\" >-0.01</td>\n",
       "                        <td id=\"T_992e9_row6_col3\" class=\"data row6 col3\" >-0.01</td>\n",
       "                        <td id=\"T_992e9_row6_col4\" class=\"data row6 col4\" >0.00</td>\n",
       "                        <td id=\"T_992e9_row6_col5\" class=\"data row6 col5\" >-0.02</td>\n",
       "                        <td id=\"T_992e9_row6_col6\" class=\"data row6 col6\" >1.00</td>\n",
       "                        <td id=\"T_992e9_row6_col7\" class=\"data row6 col7\" >0.09</td>\n",
       "            </tr>\n",
       "            <tr>\n",
       "                        <th id=\"T_992e9_level0_row7\" class=\"row_heading level0 row7\" >longitude</th>\n",
       "                        <td id=\"T_992e9_row7_col0\" class=\"data row7 col0\" >-0.16</td>\n",
       "                        <td id=\"T_992e9_row7_col1\" class=\"data row7 col1\" >-0.06</td>\n",
       "                        <td id=\"T_992e9_row7_col2\" class=\"data row7 col2\" >0.05</td>\n",
       "                        <td id=\"T_992e9_row7_col3\" class=\"data row7 col3\" >0.14</td>\n",
       "                        <td id=\"T_992e9_row7_col4\" class=\"data row7 col4\" >-0.09</td>\n",
       "                        <td id=\"T_992e9_row7_col5\" class=\"data row7 col5\" >0.10</td>\n",
       "                        <td id=\"T_992e9_row7_col6\" class=\"data row7 col6\" >0.09</td>\n",
       "                        <td id=\"T_992e9_row7_col7\" class=\"data row7 col7\" >1.00</td>\n",
       "            </tr>\n",
       "    </tbody></table>"
      ],
      "text/plain": [
       "<pandas.io.formats.style.Styler at 0x20cca49afa0>"
      ]
     },
     "execution_count": 19,
     "metadata": {},
     "output_type": "execute_result"
    }
   ],
   "source": [
    "df_viz = df2.toPandas()\n",
    "df_viz.corr().style.background_gradient(cmap='coolwarm').set_precision(2)\n"
   ]
  },
  {
   "cell_type": "markdown",
   "metadata": {},
   "source": [
    "# Boxplot"
   ]
  },
  {
   "cell_type": "code",
   "execution_count": 20,
   "metadata": {},
   "outputs": [
    {
     "data": {
      "image/png": "[encoded data removed]",
      "text/plain": [
       "<Figure size 432x288 with 1 Axes>"
      ]
     },
     "metadata": {
      "needs_background": "light"
     },
     "output_type": "display_data"
    }
   ],
   "source": [
    "plt.boxplot(df_viz[['price']])\n",
    "plt.show()"
   ]
  },
  {
   "cell_type": "code",
   "execution_count": 21,
   "metadata": {},
   "outputs": [],
   "source": [
    "df2 = df2.filter(df2.price<=250)"
   ]
  },
  {
   "cell_type": "code",
   "execution_count": 22,
   "metadata": {},
   "outputs": [
    {
     "data": {
      "text/plain": [
       "<AxesSubplot:>"
      ]
     },
     "execution_count": 22,
     "metadata": {},
     "output_type": "execute_result"
    },
    {
     "data": {
      "image/png": "[encoded data removed]",
      "text/plain": [
       "<Figure size 432x288 with 1 Axes>"
      ]
     },
     "metadata": {
      "needs_background": "light"
     },
     "output_type": "display_data"
    }
   ],
   "source": [
    "df_viz[df_viz['price']>250].price.hist(bins=40)"
   ]
  },
  {
   "cell_type": "markdown",
   "metadata": {},
   "source": [
    "# Loại bỏ các giá trị lớn hơn 250"
   ]
  },
  {
   "cell_type": "markdown",
   "metadata": {},
   "source": [
    "# Số hàng có thể bị loại bỏ"
   ]
  },
  {
   "cell_type": "code",
   "execution_count": 23,
   "metadata": {},
   "outputs": [
    {
     "data": {
      "text/plain": [
       "3520"
      ]
     },
     "execution_count": 23,
     "metadata": {},
     "output_type": "execute_result"
    }
   ],
   "source": [
    "df_viz[df_viz['price']>250].price.value_counts().sum()"
   ]
  },
  {
   "cell_type": "markdown",
   "metadata": {},
   "source": [
    "# Phân phối sau khi loại bỏ các ngoại lệ (Outlier)"
   ]
  },
  {
   "cell_type": "code",
   "execution_count": 24,
   "metadata": {},
   "outputs": [
    {
     "data": {
      "text/plain": [
       "<AxesSubplot:>"
      ]
     },
     "execution_count": 24,
     "metadata": {},
     "output_type": "execute_result"
    },
    {
     "data": {
      "image/png": "[encoded data removed]",
      "text/plain": [
       "<Figure size 432x288 with 1 Axes>"
      ]
     },
     "metadata": {
      "needs_background": "light"
     },
     "output_type": "display_data"
    }
   ],
   "source": [
    "df_viz[df_viz['price']<=250].price.hist()"
   ]
  },
  {
   "cell_type": "markdown",
   "metadata": {},
   "source": [
    "# Giả sư cho thuê có tính phí"
   ]
  },
  {
   "cell_type": "code",
   "execution_count": 25,
   "metadata": {},
   "outputs": [],
   "source": [
    "df2 = df2.filter(df2.price!=0)"
   ]
  },
  {
   "cell_type": "code",
   "execution_count": 26,
   "metadata": {},
   "outputs": [
    {
     "data": {
      "text/plain": [
       "[('neighbourhood_group', 'string'),\n",
       " ('neighbourhood', 'string'),\n",
       " ('room_type', 'string'),\n",
       " ('price', 'int'),\n",
       " ('minimum_nights', 'int'),\n",
       " ('number_of_reviews', 'int'),\n",
       " ('last_review', 'date'),\n",
       " ('reviews_per_month', 'float'),\n",
       " ('calculated_host_listings_count', 'int'),\n",
       " ('availability_365', 'int'),\n",
       " ('latitude', 'float'),\n",
       " ('longitude', 'float'),\n",
       " ('diff_in_days', 'string')]"
      ]
     },
     "execution_count": 26,
     "metadata": {},
     "output_type": "execute_result"
    }
   ],
   "source": [
    "df2.dtypes"
   ]
  },
  {
   "cell_type": "markdown",
   "metadata": {},
   "source": [
    "# Mã hóa vùng lân cận, loại phòng và diff_in_days bằng Pipelines"
   ]
  },
  {
   "cell_type": "markdown",
   "metadata": {},
   "source": [
    "# String indexer and then one-hot encoding"
   ]
  },
  {
   "cell_type": "code",
   "execution_count": 27,
   "metadata": {},
   "outputs": [
    {
     "name": "stdout",
     "output_type": "stream",
     "text": [
      "+-------------------+-------------+---------------+-----+--------------+-----------------+-----------+-----------------+------------------------------+----------------+--------+---------+--------------+---+----+---+----+-------------+----------------+-------------+-------------+\n",
      "|neighbourhood_group|neighbourhood|      room_type|price|minimum_nights|number_of_reviews|last_review|reviews_per_month|calculated_host_listings_count|availability_365|latitude|longitude|  diff_in_days|ng1|  n1|rt1|dfd1|          ngv|              nv|          rtv|         dfdv|\n",
      "+-------------------+-------------+---------------+-----+--------------+-----------------+-----------+-----------------+------------------------------+----------------+--------+---------+--------------+---+----+---+----+-------------+----------------+-------------+-------------+\n",
      "|           Brooklyn|   Kensington|   Private room|  149|             1|                9| 2018-10-19|             0.21|                             6|             365|40.64749|-73.97237|  one_year_ago|0.0|49.0|0.0| 3.0|(4,[0],[1.0])|(217,[49],[1.0])|(2,[0],[1.0])|(6,[3],[1.0])|\n",
      "|          Manhattan|      Midtown|Entire home/apt|  225|             1|               45| 2019-05-21|             0.38|                             2|             355|40.75362|-73.98377| half_year_ago|1.0|13.0|1.0| 2.0|(4,[1],[1.0])|(217,[13],[1.0])|(2,[1],[1.0])|(6,[2],[1.0])|\n",
      "|           Brooklyn| Clinton Hill|Entire home/apt|   89|             1|              270| 2019-07-05|             4.64|                             1|             194|40.68514|-73.95976|three_days_ago|0.0|19.0|1.0| 5.0|(4,[0],[1.0])|(217,[19],[1.0])|(2,[1],[1.0])|(6,[5],[1.0])|\n",
      "|          Manhattan|  East Harlem|Entire home/apt|   80|            10|                9| 2018-11-19|              0.1|                             1|               0|40.79851|-73.94399|  one_year_ago|1.0| 9.0|1.0| 3.0|(4,[1],[1.0])| (217,[9],[1.0])|(2,[1],[1.0])|(6,[3],[1.0])|\n",
      "|          Manhattan|  Murray Hill|Entire home/apt|  200|             3|               74| 2019-06-22|             0.59|                             1|             129|40.74767|  -73.975|last_month_ago|1.0|33.0|1.0| 0.0|(4,[1],[1.0])|(217,[33],[1.0])|(2,[1],[1.0])|(6,[0],[1.0])|\n",
      "+-------------------+-------------+---------------+-----+--------------+-----------------+-----------+-----------------+------------------------------+----------------+--------+---------+--------------+---+----+---+----+-------------+----------------+-------------+-------------+\n",
      "only showing top 5 rows\n",
      "\n"
     ]
    }
   ],
   "source": [
    "ng_indexer = StringIndexer(inputCol=\"neighbourhood_group\", outputCol=\"ng1\")\n",
    "n_indexer = StringIndexer(inputCol=\"neighbourhood\", outputCol=\"n1\")\n",
    "rt_indexer = StringIndexer(inputCol=\"room_type\", outputCol=\"rt1\")\n",
    "dfd_indexer = StringIndexer(inputCol=\"diff_in_days\", outputCol=\"dfd1\")\n",
    "\n",
    "ng_onehot = OneHotEncoder(inputCol=\"ng1\", outputCol=\"ngv\")\n",
    "n_onehot = OneHotEncoder(inputCol=\"n1\", outputCol=\"nv\")\n",
    "rt_onehot = OneHotEncoder(inputCol=\"rt1\", outputCol=\"rtv\")\n",
    "dfd_onehot = OneHotEncoder(inputCol=\"dfd1\", outputCol=\"dfdv\")\n",
    "\n",
    "pipeline = Pipeline(stages=[ng_indexer, n_indexer, rt_indexer, dfd_indexer, \\\n",
    "                            ng_onehot, n_onehot, rt_onehot, dfd_onehot])\n",
    "df3 = pipeline.fit(df2).transform(df2)\n",
    "df3.show(5)"
   ]
  },
  {
   "cell_type": "code",
   "execution_count": 28,
   "metadata": {},
   "outputs": [
    {
     "data": {
      "text/plain": [
       "[('neighbourhood_group', 'string'),\n",
       " ('neighbourhood', 'string'),\n",
       " ('room_type', 'string'),\n",
       " ('price', 'int'),\n",
       " ('minimum_nights', 'int'),\n",
       " ('number_of_reviews', 'int'),\n",
       " ('last_review', 'date'),\n",
       " ('reviews_per_month', 'float'),\n",
       " ('calculated_host_listings_count', 'int'),\n",
       " ('availability_365', 'int'),\n",
       " ('latitude', 'float'),\n",
       " ('longitude', 'float'),\n",
       " ('diff_in_days', 'string'),\n",
       " ('ng1', 'double'),\n",
       " ('n1', 'double'),\n",
       " ('rt1', 'double'),\n",
       " ('dfd1', 'double'),\n",
       " ('ngv', 'vector'),\n",
       " ('nv', 'vector'),\n",
       " ('rtv', 'vector'),\n",
       " ('dfdv', 'vector')]"
      ]
     },
     "execution_count": 28,
     "metadata": {},
     "output_type": "execute_result"
    }
   ],
   "source": [
    "df3.dtypes"
   ]
  },
  {
   "cell_type": "markdown",
   "metadata": {},
   "source": [
    "# Biến đổi train data theo định dạng của Spark"
   ]
  },
  {
   "cell_type": "code",
   "execution_count": 29,
   "metadata": {},
   "outputs": [
    {
     "name": "stdout",
     "output_type": "stream",
     "text": [
      "+--------------------+-----+\n",
      "|            features|price|\n",
      "+--------------------+-----+\n",
      "|(236,[0,1,2,3,4,5...|  149|\n",
      "|(236,[0,1,2,3,4,6...|  225|\n",
      "|(236,[0,1,2,3,4,5...|   89|\n",
      "|(236,[0,1,2,3,6,1...|   80|\n",
      "|(236,[0,1,2,3,4,6...|  200|\n",
      "+--------------------+-----+\n",
      "only showing top 5 rows\n",
      "\n"
     ]
    }
   ],
   "source": [
    "va = VectorAssembler(inputCols = \\\n",
    "                     ['minimum_nights', 'number_of_reviews', 'reviews_per_month', \\\n",
    "                      'calculated_host_listings_count', 'availability_365', \\\n",
    "                      'ngv','rtv', 'nv', 'dfdv', 'latitude', 'longitude'], outputCol = 'features')\n",
    "df4 = va.transform(df3)\n",
    "df4x = df4.select(['features', 'price'])\n",
    "df4x.show(5)"
   ]
  },
  {
   "cell_type": "markdown",
   "metadata": {},
   "source": [
    "# MinMax Scaler"
   ]
  },
  {
   "cell_type": "code",
   "execution_count": 30,
   "metadata": {},
   "outputs": [
    {
     "name": "stdout",
     "output_type": "stream",
     "text": [
      "+--------------------+-----+--------------------+\n",
      "|            features|price|      scaledFeatures|\n",
      "+--------------------+-----+--------------------+\n",
      "|(236,[0,1,2,3,4,5...|  149|(236,[1,2,3,4,5,9...|\n",
      "|(236,[0,1,2,3,4,6...|  225|(236,[1,2,3,4,6,1...|\n",
      "|(236,[0,1,2,3,4,5...|   89|(236,[1,2,4,5,10,...|\n",
      "|(236,[0,1,2,3,6,1...|   80|(236,[0,1,2,6,10,...|\n",
      "|(236,[0,1,2,3,4,6...|  200|(236,[0,1,2,4,6,1...|\n",
      "+--------------------+-----+--------------------+\n",
      "only showing top 5 rows\n",
      "\n"
     ]
    }
   ],
   "source": [
    "scaler = MinMaxScaler(inputCol=\"features\", outputCol=\"scaledFeatures\")\n",
    "scalerModel = scaler.fit(df4x)\n",
    "df4 = scalerModel.transform(df4x)\n",
    "df4.show(5)"
   ]
  },
  {
   "cell_type": "code",
   "execution_count": 31,
   "metadata": {},
   "outputs": [
    {
     "name": "stdout",
     "output_type": "stream",
     "text": [
      "+--------------------+-----+\n",
      "|            features|label|\n",
      "+--------------------+-----+\n",
      "|(236,[1,2,3,4,5,9...|  149|\n",
      "|(236,[1,2,3,4,6,1...|  225|\n",
      "+--------------------+-----+\n",
      "only showing top 2 rows\n",
      "\n"
     ]
    }
   ],
   "source": [
    "df4 = df4.select('scaledFeatures', 'price')\n",
    "df4 = df4.withColumnRenamed(\"scaledFeatures\",\"features\")\n",
    "df4 = df4.withColumnRenamed(\"price\",\"label\")\n",
    "df4.show(2)"
   ]
  },
  {
   "cell_type": "markdown",
   "metadata": {},
   "source": [
    "# Train-Test"
   ]
  },
  {
   "cell_type": "code",
   "execution_count": 32,
   "metadata": {},
   "outputs": [],
   "source": [
    "splits = df4.randomSplit([0.8, 0.2], seed=12345)\n",
    "train_df = splits[0]\n",
    "test_df = splits[1]"
   ]
  },
  {
   "cell_type": "markdown",
   "metadata": {},
   "source": [
    "# Linear Regression"
   ]
  },
  {
   "cell_type": "code",
   "execution_count": 33,
   "metadata": {},
   "outputs": [
    {
     "name": "stdout",
     "output_type": "stream",
     "text": [
      "R Squared (R2) on test data = 0.13579\n",
      "RMSE (R2) on test data = 184.575\n"
     ]
    }
   ],
   "source": [
    "df3_raw = df.select('neighbourhood_group', 'neighbourhood', 'room_type', 'price', \\\n",
    "               'minimum_nights','number_of_reviews', 'reviews_per_month', \\\n",
    "               'calculated_host_listings_count', 'availability_365', 'latitude', 'longitude')\n",
    "\n",
    "df3_raw = df3_raw.na.drop(\"any\")\n",
    "\n",
    "df3_raw = df3_raw.withColumn(\"price\", df3_raw[\"price\"].cast(IntegerType()))\n",
    "df3_raw = df3_raw.withColumn(\"minimum_nights\", df3_raw[\"minimum_nights\"].cast(IntegerType()))\n",
    "df3_raw = df3_raw.withColumn(\"number_of_reviews\", df3_raw[\"number_of_reviews\"].cast(IntegerType()))\n",
    "df3_raw = df3_raw.withColumn(\"reviews_per_month\", df3_raw[\"reviews_per_month\"].cast(FloatType()))\n",
    "df3_raw = df3_raw.withColumn(\"calculated_host_listings_count\", df3_raw[\"calculated_host_listings_count\"].cast(IntegerType()))\n",
    "df3_raw = df3_raw.withColumn(\"availability_365\", df3_raw[\"availability_365\"].cast(IntegerType()))\n",
    "df3_raw = df3_raw.withColumn(\"latitude\", df3_raw[\"latitude\"].cast(FloatType()))\n",
    "df3_raw = df3_raw.withColumn(\"longitude\", df3_raw[\"longitude\"].cast(FloatType()))\n",
    "\n",
    "\n",
    "df3_raw = df3_raw.na.drop(\"any\")\n",
    "\n",
    "pipeline = Pipeline(stages=[ng_indexer, n_indexer, rt_indexer, \\\n",
    "                            ng_onehot, n_onehot, rt_onehot])\n",
    "df4_raw = pipeline.fit(df3_raw).transform(df3_raw)\n",
    "\n",
    "va1 = VectorAssembler(inputCols = \\\n",
    "                     ['minimum_nights', 'number_of_reviews', 'reviews_per_month', \\\n",
    "                        'calculated_host_listings_count', 'availability_365', \\\n",
    "                      'ngv','rtv', 'nv', 'latitude', 'longitude'], outputCol = 'features')\n",
    "\n",
    "df5_raw = va1.transform(df4_raw)\n",
    "df5x_raw = df5_raw.select(['features', 'price'])\n",
    "\n",
    "splits_raw = df5x_raw.randomSplit([0.7, 0.3], seed=12345)\n",
    "train_df_raw = splits_raw[0]\n",
    "test_df_raw = splits_raw[1]\n",
    "#print(train_df_raw.collect()[5])\n",
    "\n",
    "lr_raw = LinearRegression(featuresCol = 'features', labelCol='price')\n",
    "lr_model_raw = lr_raw.fit(train_df_raw)\n",
    "fullPredictions_raw = lr_model_raw.transform(test_df_raw).cache()\n",
    "\n",
    "lr_evaluator_raw = RegressionEvaluator(predictionCol=\"prediction\", labelCol=\"price\",metricName=\"r2\")\n",
    "print(\"R Squared (R2) on test data = %g\" % lr_evaluator_raw.evaluate(fullPredictions_raw))\n",
    "lr_evaluator_raw = RegressionEvaluator(predictionCol=\"prediction\", labelCol=\"price\",metricName=\"rmse\")\n",
    "print(\"RMSE (R2) on test data = %g\" % lr_evaluator_raw.evaluate(fullPredictions_raw))"
   ]
  },
  {
   "cell_type": "markdown",
   "metadata": {},
   "source": [
    "# Decision Tree"
   ]
  },
  {
   "cell_type": "markdown",
   "metadata": {},
   "source": [
    "Thiết lập mô hình."
   ]
  },
  {
   "cell_type": "code",
   "execution_count": 34,
   "metadata": {},
   "outputs": [],
   "source": [
    "dt = DecisionTreeRegressor(featuresCol = 'features', labelCol='label') \n",
    "dt_model = dt.fit(train_df)\n",
    "dtPrediction = dt_model.transform(test_df)"
   ]
  },
  {
   "cell_type": "markdown",
   "metadata": {},
   "source": [
    "In ra các giá trị Rquared và RMSE để đánh giá mô hình."
   ]
  },
  {
   "cell_type": "code",
   "execution_count": 35,
   "metadata": {},
   "outputs": [
    {
     "name": "stdout",
     "output_type": "stream",
     "text": [
      "R Squared (R2) on test data = 0.5605\n",
      "RMSE on test data = 37.3599\n"
     ]
    }
   ],
   "source": [
    "dt_evaluator = RegressionEvaluator(predictionCol=\"prediction\", labelCol=\"label\",metricName=\"r2\")\n",
    "print(\"R Squared (R2) on test data = %g\" % dt_evaluator.evaluate(dtPrediction))\n",
    "dt_evaluator = RegressionEvaluator(predictionCol=\"prediction\", labelCol=\"label\",metricName=\"rmse\")\n",
    "print(\"RMSE on test data = %g\" % dt_evaluator.evaluate(dtPrediction))"
   ]
  },
  {
   "cell_type": "markdown",
   "metadata": {},
   "source": [
    "### Tuning Hyparameter"
   ]
  },
  {
   "cell_type": "code",
   "execution_count": 36,
   "metadata": {},
   "outputs": [
    {
     "name": "stdout",
     "output_type": "stream",
     "text": [
      "R Squared (R2) on test data = 0.573146\n",
      "RMSE on test data = 36.8185\n"
     ]
    }
   ],
   "source": [
    "dt = DecisionTreeRegressor(featuresCol = 'features', labelCol='label',  maxDepth = 9, maxBins = 13) \n",
    "dt_model = dt.fit(train_df)\n",
    "dtPrediction = dt_model.transform(test_df)\n",
    "\n",
    "dt_evaluator = RegressionEvaluator(predictionCol=\"prediction\", labelCol=\"label\",metricName=\"r2\")\n",
    "print(\"R Squared (R2) on test data = %g\" % dt_evaluator.evaluate(dtPrediction))\n",
    "dt_evaluator = RegressionEvaluator(predictionCol=\"prediction\", labelCol=\"label\",metricName=\"rmse\")\n",
    "print(\"RMSE on test data = %g\" % dt_evaluator.evaluate(dtPrediction))"
   ]
  },
  {
   "cell_type": "markdown",
   "metadata": {},
   "source": [
    "# Random Forest"
   ]
  },
  {
   "cell_type": "markdown",
   "metadata": {},
   "source": [
    "Thiết lập mô hình."
   ]
  },
  {
   "cell_type": "code",
   "execution_count": 37,
   "metadata": {},
   "outputs": [],
   "source": [
    "rf = RandomForestRegressor(featuresCol = 'features', labelCol='label')\n",
    "rf_model = rf.fit(train_df)\n",
    "rfPredictions = rf_model.transform(test_df)"
   ]
  },
  {
   "cell_type": "markdown",
   "metadata": {},
   "source": [
    "In ra các giá trị Rquared và RMSE để đánh giá mô hình."
   ]
  },
  {
   "cell_type": "code",
   "execution_count": 38,
   "metadata": {},
   "outputs": [
    {
     "name": "stdout",
     "output_type": "stream",
     "text": [
      "R Squared (R2) on test data = 0.556358\n",
      "RMSE on test data = 37.5356\n"
     ]
    }
   ],
   "source": [
    "rf_evaluator = RegressionEvaluator(predictionCol=\"prediction\", labelCol=\"label\",metricName=\"r2\")\n",
    "print(\"R Squared (R2) on test data = %g\" % rf_evaluator.evaluate(rfPredictions))\n",
    "rf_evaluator = RegressionEvaluator(predictionCol=\"prediction\", labelCol=\"label\",metricName=\"rmse\")\n",
    "print(\"RMSE on test data = %g\" % rf_evaluator.evaluate(rfPredictions))"
   ]
  },
  {
   "cell_type": "markdown",
   "metadata": {},
   "source": [
    "### Tuning hyparameters"
   ]
  },
  {
   "cell_type": "code",
   "execution_count": 33,
   "metadata": {},
   "outputs": [
    {
     "name": "stdout",
     "output_type": "stream",
     "text": [
      "R Squared (R2) on test data = 0.612062\n",
      "RMSE on test data = 35.1\n"
     ]
    }
   ],
   "source": [
    "rf = RandomForestRegressor(featuresCol = 'features', labelCol='label', maxDepth = 14)\n",
    "rf_model = rf.fit(train_df)\n",
    "rfPredictions = rf_model.transform(test_df)\n",
    "\n",
    "rf_evaluator = RegressionEvaluator(predictionCol=\"prediction\", labelCol=\"label\",metricName=\"r2\")\n",
    "print(\"R Squared (R2) on test data = %g\" % rf_evaluator.evaluate(rfPredictions))\n",
    "rf_evaluator = RegressionEvaluator(predictionCol=\"prediction\", labelCol=\"label\",metricName=\"rmse\")\n",
    "print(\"RMSE on test data = %g\" % rf_evaluator.evaluate(rfPredictions))"
   ]
  },
  {
   "cell_type": "markdown",
   "metadata": {},
   "source": [
    "Tiến hành dự đoán."
   ]
  },
  {
   "cell_type": "code",
   "execution_count": 49,
   "metadata": {},
   "outputs": [
    {
     "name": "stdout",
     "output_type": "stream",
     "text": [
      "+--------------------+-----+------------------+\n",
      "|            features|label|        prediction|\n",
      "+--------------------+-----+------------------+\n",
      "|(236,[0,1,2,3,4,5...|   51|  68.6468192429817|\n",
      "|(236,[0,1,2,3,4,5...|   60| 64.77113899405927|\n",
      "|(236,[0,1,2,3,4,5...|   46| 67.20110719140075|\n",
      "|(236,[0,1,2,3,4,5...|   75| 71.91950773443997|\n",
      "|(236,[0,1,2,3,4,5...|   95|60.874555377365404|\n",
      "+--------------------+-----+------------------+\n",
      "only showing top 5 rows\n",
      "\n"
     ]
    }
   ],
   "source": [
    "rfPredictions.show(5)"
   ]
  },
  {
   "cell_type": "markdown",
   "metadata": {},
   "source": []
  }
 ],
 "metadata": {
  "kernelspec": {
   "display_name": "Python 3",
   "language": "python",
   "name": "python3"
  },
  "language_info": {
   "codemirror_mode": {
    "name": "ipython",
    "version": 3
   },
   "file_extension": ".py",
   "mimetype": "text/x-python",
   "name": "python",
   "nbconvert_exporter": "python",
   "pygments_lexer": "ipython3",
   "version": "3.8.8"
  }
 },
 "nbformat": 4,
 "nbformat_minor": 4
}
